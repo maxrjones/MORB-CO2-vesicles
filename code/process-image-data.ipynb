{
 "cells": [
  {
   "cell_type": "markdown",
   "metadata": {},
   "source": [
    "## Process images and apply stereological corrections\n",
    "\n",
    "This notebook loads and processes image data for sample AX13_RC04. The notebook loads the vesicle characteristics computed using imageJ (FIJI), scales the data using the pixel resolution in the metadata file, and applies three different stereological methods (Cheng and Lemlich, 1983; Proussevitch and Sahagian, 1998; and Saltikov, 1967)."
   ]
  },
  {
   "cell_type": "markdown",
   "metadata": {},
   "source": [
    "### References\n",
    "\n",
    "Cheng, H.C., Lemlich, R., 1983. Errors in the measurement of bubble size distribution in foam. Ind. Eng. Chem. Fundam. 22, 105–109. https://doi.org/10.1021/i100009a018\n",
    "    \n",
    "Sahagian, D.L., Proussevitch, A.A., 1998. 3D particle size distributions from 2D observations: stereology for natural applications. J. Volcanol. Geotherm. Res. 84, 173–196. https://doi.org/10.1016/S0377-0273(98)00043-2\n",
    "\n",
    "Saltikov, S., 1967. The determination of the size distribution of particles in an opaque material from a measurement of the size distribution of their sections, in: Stereology: Proceeding of the Second International Congress for Stereology. pp. 163–173.\n",
    "        \n",
    "Early development of this code also referenced the FOAMS MATLAB program:\n",
    "\n",
    "Shea, T., Houghton, B.F., Gurioli, L., Cashman, K.V., Hammer, J.E., Hobden, B.J., 2010. Textural studies of vesicles in volcanic rocks: An integrated methodology. J. Volcanol. Geotherm. Res. 190, 271–289. https://doi.org/10.1016/j.jvolgeores.2009.12.003\n"
   ]
  },
  {
   "cell_type": "markdown",
   "metadata": {},
   "source": [
    "### Package imports"
   ]
  },
  {
   "cell_type": "code",
   "execution_count": 1,
   "metadata": {},
   "outputs": [],
   "source": [
    "from vesicle_analysis import Sample\n",
    "from matplotlib import pyplot as plt\n",
    "import warnings"
   ]
  },
  {
   "cell_type": "markdown",
   "metadata": {},
   "source": [
    "### Load and scale the image data"
   ]
  },
  {
   "cell_type": "code",
   "execution_count": 2,
   "metadata": {},
   "outputs": [],
   "source": [
    "data_dir = '../data/image_data/Axial'\n",
    "sample_name = 'AX13_RC04'\n",
    "min_diameter = 15\n",
    "units = 'micrometers'\n",
    "\n",
    "sample = Sample(sample_name)"
   ]
  },
  {
   "cell_type": "code",
   "execution_count": 3,
   "metadata": {},
   "outputs": [],
   "source": [
    "for image in ['04','05','06']:\n",
    "    file = '/'.join([data_dir,'_'.join([sample_name,image,'results_outline.csv'])])\n",
    "    meta_file = '/'.join([data_dir,'_'.join([sample_name,image,'meta.txt'])])\n",
    "    sample.add_image(image, file, meta_file, units, min_diameter)"
   ]
  },
  {
   "cell_type": "markdown",
   "metadata": {},
   "source": [
    "### Apply Cheng and Lemlich (1983), Proussevitch and Sahagian (1998), and Saltikov (1967) corrections to the 2D data\n",
    "Note, this applies the correction to the aggregated image data for the sample. Call apply_vsd_corr on the image (sample.images[ind]) to apply stereological corrections to an individual image."
   ]
  },
  {
   "cell_type": "code",
   "execution_count": 4,
   "metadata": {},
   "outputs": [],
   "source": [
    "# ignore warnings cuased by taking the log of Nv for bins with no vesicles\n",
    "warnings.simplefilter('ignore')\n",
    "\n",
    "sample.apply_vsd_corr(key='cl',\n",
    "                      method='ChengLemlich',\n",
    "                      length_type='radius',\n",
    "                      nbins=12)\n",
    "sample.apply_vsd_corr(key='sp', \n",
    "                      method='SahagianProussevitch', \n",
    "                      length_type='diameter',\n",
    "                      nbins=8)\n",
    "sample.apply_vsd_corr(key='s', \n",
    "                      method='Saltikov',\n",
    "                      length_type='diameter',\n",
    "                      nbins=12)\n"
   ]
  },
  {
   "cell_type": "markdown",
   "metadata": {},
   "source": [
    "### Make a quick plot showing the results of the different corrections"
   ]
  },
  {
   "cell_type": "code",
   "execution_count": 5,
   "metadata": {},
   "outputs": [
    {
     "data": {
      "text/plain": [
       "<matplotlib.legend.Legend at 0x11728c880>"
      ]
     },
     "execution_count": 5,
     "metadata": {},
     "output_type": "execute_result"
    },
    {
     "data": {
      "image/png": "[encoded data removed]",
      "text/plain": [
       "<Figure size 432x432 with 1 Axes>"
      ]
     },
     "metadata": {
      "needs_background": "light"
     },
     "output_type": "display_data"
    }
   ],
   "source": [
    "fig, ax = plt.subplots(nrows=1, ncols=1, figsize=(6,6))\n",
    "sample.vsd[0].plot_data(ax, 'lnn', 'r', '^')\n",
    "sample.vsd[1].plot_data(ax, 'lnn', 'b', 's')\n",
    "sample.vsd[2].plot_data(ax, 'lnn', 'k', 'd')\n",
    "ax.set_xlabel(r'diameter ($\\mu$m)')\n",
    "ax.set_ylabel(r'ln(n) (mm$^3$)')\n",
    "ax.set_title(' '.join([sample_name, 'VSD']))\n",
    "ax.legend(['Cheng & Lemlich (1983)','Sahagian & Proussevitch (1998)','Saltikov (1967)'])"
   ]
  },
  {
   "cell_type": "markdown",
   "metadata": {},
   "source": [
    "### Add microCT data for the sample"
   ]
  },
  {
   "cell_type": "code",
   "execution_count": 6,
   "metadata": {},
   "outputs": [],
   "source": [
    "sample.add_scan(scan_id='ax13_rc04_hres',\n",
    "                ctan_file='../data/microCT/AX13_RC04_hres__rec0000.ctan_02.txt',\n",
    "                i3d_file='../data/microCT/AX13_RC04_hres__rec0000_i3d_02.txt',\n",
    "                min_diameter=min_diameter)"
   ]
  }
 ],
 "metadata": {
  "kernelspec": {
   "display_name": "Python 3",
   "language": "python",
   "name": "python3"
  },
  "language_info": {
   "codemirror_mode": {
    "name": "ipython",
    "version": 3
   },
   "file_extension": ".py",
   "mimetype": "text/x-python",
   "name": "python",
   "nbconvert_exporter": "python",
   "pygments_lexer": "ipython3",
   "version": "3.8.3"
  }
 },
 "nbformat": 4,
 "nbformat_minor": 4
}
